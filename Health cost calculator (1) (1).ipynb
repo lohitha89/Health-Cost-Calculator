{
 "cells": [
  {
   "cell_type": "code",
   "execution_count": 1,
   "id": "e37cb97f",
   "metadata": {},
   "outputs": [],
   "source": [
    "import pandas as pd\n",
    "import numpy as np\n",
    "import seaborn as sns\n",
    "import matplotlib.pyplot as plt\n",
    "import warnings\n",
    "warnings.filterwarnings('ignore')"
   ]
  },
  {
   "cell_type": "code",
   "execution_count": 2,
   "id": "473f8dff",
   "metadata": {},
   "outputs": [],
   "source": [
    "df=pd.read_csv('insurance (2).csv')"
   ]
  },
  {
   "cell_type": "code",
   "execution_count": 3,
   "id": "2b7dec89",
   "metadata": {},
   "outputs": [
    {
     "data": {
      "text/html": [
       "<div>\n",
       "<style scoped>\n",
       "    .dataframe tbody tr th:only-of-type {\n",
       "        vertical-align: middle;\n",
       "    }\n",
       "\n",
       "    .dataframe tbody tr th {\n",
       "        vertical-align: top;\n",
       "    }\n",
       "\n",
       "    .dataframe thead th {\n",
       "        text-align: right;\n",
       "    }\n",
       "</style>\n",
       "<table border=\"1\" class=\"dataframe\">\n",
       "  <thead>\n",
       "    <tr style=\"text-align: right;\">\n",
       "      <th></th>\n",
       "      <th>age</th>\n",
       "      <th>sex</th>\n",
       "      <th>bmi</th>\n",
       "      <th>children</th>\n",
       "      <th>smoker</th>\n",
       "      <th>region</th>\n",
       "      <th>expenses</th>\n",
       "    </tr>\n",
       "  </thead>\n",
       "  <tbody>\n",
       "    <tr>\n",
       "      <th>0</th>\n",
       "      <td>19</td>\n",
       "      <td>female</td>\n",
       "      <td>27.9</td>\n",
       "      <td>0</td>\n",
       "      <td>yes</td>\n",
       "      <td>southwest</td>\n",
       "      <td>16884.92</td>\n",
       "    </tr>\n",
       "    <tr>\n",
       "      <th>1</th>\n",
       "      <td>18</td>\n",
       "      <td>male</td>\n",
       "      <td>33.8</td>\n",
       "      <td>1</td>\n",
       "      <td>no</td>\n",
       "      <td>southeast</td>\n",
       "      <td>1725.55</td>\n",
       "    </tr>\n",
       "    <tr>\n",
       "      <th>2</th>\n",
       "      <td>28</td>\n",
       "      <td>male</td>\n",
       "      <td>33.0</td>\n",
       "      <td>3</td>\n",
       "      <td>no</td>\n",
       "      <td>southeast</td>\n",
       "      <td>4449.46</td>\n",
       "    </tr>\n",
       "    <tr>\n",
       "      <th>3</th>\n",
       "      <td>33</td>\n",
       "      <td>male</td>\n",
       "      <td>22.7</td>\n",
       "      <td>0</td>\n",
       "      <td>no</td>\n",
       "      <td>northwest</td>\n",
       "      <td>21984.47</td>\n",
       "    </tr>\n",
       "    <tr>\n",
       "      <th>4</th>\n",
       "      <td>32</td>\n",
       "      <td>male</td>\n",
       "      <td>28.9</td>\n",
       "      <td>0</td>\n",
       "      <td>no</td>\n",
       "      <td>northwest</td>\n",
       "      <td>3866.86</td>\n",
       "    </tr>\n",
       "    <tr>\n",
       "      <th>...</th>\n",
       "      <td>...</td>\n",
       "      <td>...</td>\n",
       "      <td>...</td>\n",
       "      <td>...</td>\n",
       "      <td>...</td>\n",
       "      <td>...</td>\n",
       "      <td>...</td>\n",
       "    </tr>\n",
       "    <tr>\n",
       "      <th>1333</th>\n",
       "      <td>50</td>\n",
       "      <td>male</td>\n",
       "      <td>31.0</td>\n",
       "      <td>3</td>\n",
       "      <td>no</td>\n",
       "      <td>northwest</td>\n",
       "      <td>10600.55</td>\n",
       "    </tr>\n",
       "    <tr>\n",
       "      <th>1334</th>\n",
       "      <td>18</td>\n",
       "      <td>female</td>\n",
       "      <td>31.9</td>\n",
       "      <td>0</td>\n",
       "      <td>no</td>\n",
       "      <td>northeast</td>\n",
       "      <td>2205.98</td>\n",
       "    </tr>\n",
       "    <tr>\n",
       "      <th>1335</th>\n",
       "      <td>18</td>\n",
       "      <td>female</td>\n",
       "      <td>36.9</td>\n",
       "      <td>0</td>\n",
       "      <td>no</td>\n",
       "      <td>southeast</td>\n",
       "      <td>1629.83</td>\n",
       "    </tr>\n",
       "    <tr>\n",
       "      <th>1336</th>\n",
       "      <td>21</td>\n",
       "      <td>female</td>\n",
       "      <td>25.8</td>\n",
       "      <td>0</td>\n",
       "      <td>no</td>\n",
       "      <td>southwest</td>\n",
       "      <td>2007.95</td>\n",
       "    </tr>\n",
       "    <tr>\n",
       "      <th>1337</th>\n",
       "      <td>61</td>\n",
       "      <td>female</td>\n",
       "      <td>29.1</td>\n",
       "      <td>0</td>\n",
       "      <td>yes</td>\n",
       "      <td>northwest</td>\n",
       "      <td>29141.36</td>\n",
       "    </tr>\n",
       "  </tbody>\n",
       "</table>\n",
       "<p>1338 rows × 7 columns</p>\n",
       "</div>"
      ],
      "text/plain": [
       "      age     sex   bmi  children smoker     region  expenses\n",
       "0      19  female  27.9         0    yes  southwest  16884.92\n",
       "1      18    male  33.8         1     no  southeast   1725.55\n",
       "2      28    male  33.0         3     no  southeast   4449.46\n",
       "3      33    male  22.7         0     no  northwest  21984.47\n",
       "4      32    male  28.9         0     no  northwest   3866.86\n",
       "...   ...     ...   ...       ...    ...        ...       ...\n",
       "1333   50    male  31.0         3     no  northwest  10600.55\n",
       "1334   18  female  31.9         0     no  northeast   2205.98\n",
       "1335   18  female  36.9         0     no  southeast   1629.83\n",
       "1336   21  female  25.8         0     no  southwest   2007.95\n",
       "1337   61  female  29.1         0    yes  northwest  29141.36\n",
       "\n",
       "[1338 rows x 7 columns]"
      ]
     },
     "execution_count": 3,
     "metadata": {},
     "output_type": "execute_result"
    }
   ],
   "source": [
    "df"
   ]
  },
  {
   "cell_type": "code",
   "execution_count": 4,
   "id": "2ebb66d3",
   "metadata": {},
   "outputs": [
    {
     "data": {
      "text/html": [
       "<div>\n",
       "<style scoped>\n",
       "    .dataframe tbody tr th:only-of-type {\n",
       "        vertical-align: middle;\n",
       "    }\n",
       "\n",
       "    .dataframe tbody tr th {\n",
       "        vertical-align: top;\n",
       "    }\n",
       "\n",
       "    .dataframe thead th {\n",
       "        text-align: right;\n",
       "    }\n",
       "</style>\n",
       "<table border=\"1\" class=\"dataframe\">\n",
       "  <thead>\n",
       "    <tr style=\"text-align: right;\">\n",
       "      <th></th>\n",
       "      <th>age</th>\n",
       "      <th>sex</th>\n",
       "      <th>bmi</th>\n",
       "      <th>children</th>\n",
       "      <th>smoker</th>\n",
       "      <th>region</th>\n",
       "      <th>expenses</th>\n",
       "    </tr>\n",
       "  </thead>\n",
       "  <tbody>\n",
       "    <tr>\n",
       "      <th>0</th>\n",
       "      <td>19</td>\n",
       "      <td>female</td>\n",
       "      <td>27.9</td>\n",
       "      <td>0</td>\n",
       "      <td>yes</td>\n",
       "      <td>southwest</td>\n",
       "      <td>16884.92</td>\n",
       "    </tr>\n",
       "    <tr>\n",
       "      <th>1</th>\n",
       "      <td>18</td>\n",
       "      <td>male</td>\n",
       "      <td>33.8</td>\n",
       "      <td>1</td>\n",
       "      <td>no</td>\n",
       "      <td>southeast</td>\n",
       "      <td>1725.55</td>\n",
       "    </tr>\n",
       "    <tr>\n",
       "      <th>2</th>\n",
       "      <td>28</td>\n",
       "      <td>male</td>\n",
       "      <td>33.0</td>\n",
       "      <td>3</td>\n",
       "      <td>no</td>\n",
       "      <td>southeast</td>\n",
       "      <td>4449.46</td>\n",
       "    </tr>\n",
       "    <tr>\n",
       "      <th>3</th>\n",
       "      <td>33</td>\n",
       "      <td>male</td>\n",
       "      <td>22.7</td>\n",
       "      <td>0</td>\n",
       "      <td>no</td>\n",
       "      <td>northwest</td>\n",
       "      <td>21984.47</td>\n",
       "    </tr>\n",
       "    <tr>\n",
       "      <th>4</th>\n",
       "      <td>32</td>\n",
       "      <td>male</td>\n",
       "      <td>28.9</td>\n",
       "      <td>0</td>\n",
       "      <td>no</td>\n",
       "      <td>northwest</td>\n",
       "      <td>3866.86</td>\n",
       "    </tr>\n",
       "  </tbody>\n",
       "</table>\n",
       "</div>"
      ],
      "text/plain": [
       "   age     sex   bmi  children smoker     region  expenses\n",
       "0   19  female  27.9         0    yes  southwest  16884.92\n",
       "1   18    male  33.8         1     no  southeast   1725.55\n",
       "2   28    male  33.0         3     no  southeast   4449.46\n",
       "3   33    male  22.7         0     no  northwest  21984.47\n",
       "4   32    male  28.9         0     no  northwest   3866.86"
      ]
     },
     "execution_count": 4,
     "metadata": {},
     "output_type": "execute_result"
    }
   ],
   "source": [
    "df.head()"
   ]
  },
  {
   "cell_type": "code",
   "execution_count": 5,
   "id": "94805f5a",
   "metadata": {},
   "outputs": [
    {
     "data": {
      "text/html": [
       "<div>\n",
       "<style scoped>\n",
       "    .dataframe tbody tr th:only-of-type {\n",
       "        vertical-align: middle;\n",
       "    }\n",
       "\n",
       "    .dataframe tbody tr th {\n",
       "        vertical-align: top;\n",
       "    }\n",
       "\n",
       "    .dataframe thead th {\n",
       "        text-align: right;\n",
       "    }\n",
       "</style>\n",
       "<table border=\"1\" class=\"dataframe\">\n",
       "  <thead>\n",
       "    <tr style=\"text-align: right;\">\n",
       "      <th></th>\n",
       "      <th>age</th>\n",
       "      <th>bmi</th>\n",
       "      <th>children</th>\n",
       "      <th>expenses</th>\n",
       "    </tr>\n",
       "  </thead>\n",
       "  <tbody>\n",
       "    <tr>\n",
       "      <th>count</th>\n",
       "      <td>1338.000000</td>\n",
       "      <td>1338.000000</td>\n",
       "      <td>1338.000000</td>\n",
       "      <td>1338.000000</td>\n",
       "    </tr>\n",
       "    <tr>\n",
       "      <th>mean</th>\n",
       "      <td>39.207025</td>\n",
       "      <td>30.665471</td>\n",
       "      <td>1.094918</td>\n",
       "      <td>13270.422414</td>\n",
       "    </tr>\n",
       "    <tr>\n",
       "      <th>std</th>\n",
       "      <td>14.049960</td>\n",
       "      <td>6.098382</td>\n",
       "      <td>1.205493</td>\n",
       "      <td>12110.011240</td>\n",
       "    </tr>\n",
       "    <tr>\n",
       "      <th>min</th>\n",
       "      <td>18.000000</td>\n",
       "      <td>16.000000</td>\n",
       "      <td>0.000000</td>\n",
       "      <td>1121.870000</td>\n",
       "    </tr>\n",
       "    <tr>\n",
       "      <th>25%</th>\n",
       "      <td>27.000000</td>\n",
       "      <td>26.300000</td>\n",
       "      <td>0.000000</td>\n",
       "      <td>4740.287500</td>\n",
       "    </tr>\n",
       "    <tr>\n",
       "      <th>50%</th>\n",
       "      <td>39.000000</td>\n",
       "      <td>30.400000</td>\n",
       "      <td>1.000000</td>\n",
       "      <td>9382.030000</td>\n",
       "    </tr>\n",
       "    <tr>\n",
       "      <th>75%</th>\n",
       "      <td>51.000000</td>\n",
       "      <td>34.700000</td>\n",
       "      <td>2.000000</td>\n",
       "      <td>16639.915000</td>\n",
       "    </tr>\n",
       "    <tr>\n",
       "      <th>max</th>\n",
       "      <td>64.000000</td>\n",
       "      <td>53.100000</td>\n",
       "      <td>5.000000</td>\n",
       "      <td>63770.430000</td>\n",
       "    </tr>\n",
       "  </tbody>\n",
       "</table>\n",
       "</div>"
      ],
      "text/plain": [
       "               age          bmi     children      expenses\n",
       "count  1338.000000  1338.000000  1338.000000   1338.000000\n",
       "mean     39.207025    30.665471     1.094918  13270.422414\n",
       "std      14.049960     6.098382     1.205493  12110.011240\n",
       "min      18.000000    16.000000     0.000000   1121.870000\n",
       "25%      27.000000    26.300000     0.000000   4740.287500\n",
       "50%      39.000000    30.400000     1.000000   9382.030000\n",
       "75%      51.000000    34.700000     2.000000  16639.915000\n",
       "max      64.000000    53.100000     5.000000  63770.430000"
      ]
     },
     "execution_count": 5,
     "metadata": {},
     "output_type": "execute_result"
    }
   ],
   "source": [
    "df.describe()"
   ]
  },
  {
   "cell_type": "code",
   "execution_count": 6,
   "id": "95bb2c67",
   "metadata": {},
   "outputs": [
    {
     "name": "stdout",
     "output_type": "stream",
     "text": [
      "<class 'pandas.core.frame.DataFrame'>\n",
      "RangeIndex: 1338 entries, 0 to 1337\n",
      "Data columns (total 7 columns):\n",
      " #   Column    Non-Null Count  Dtype  \n",
      "---  ------    --------------  -----  \n",
      " 0   age       1338 non-null   int64  \n",
      " 1   sex       1338 non-null   object \n",
      " 2   bmi       1338 non-null   float64\n",
      " 3   children  1338 non-null   int64  \n",
      " 4   smoker    1338 non-null   object \n",
      " 5   region    1338 non-null   object \n",
      " 6   expenses  1338 non-null   float64\n",
      "dtypes: float64(2), int64(2), object(3)\n",
      "memory usage: 73.3+ KB\n"
     ]
    }
   ],
   "source": [
    "df.info()"
   ]
  },
  {
   "cell_type": "code",
   "execution_count": 7,
   "id": "b299df81",
   "metadata": {},
   "outputs": [
    {
     "data": {
      "text/plain": [
       "Index(['age', 'sex', 'bmi', 'children', 'smoker', 'region', 'expenses'], dtype='object')"
      ]
     },
     "execution_count": 7,
     "metadata": {},
     "output_type": "execute_result"
    }
   ],
   "source": [
    "df.columns"
   ]
  },
  {
   "cell_type": "code",
   "execution_count": 8,
   "id": "9cf1e572",
   "metadata": {},
   "outputs": [],
   "source": [
    "cat_cols=df.select_dtypes([object])\n",
    "num_cols=df.select_dtypes(exclude=[object])"
   ]
  },
  {
   "cell_type": "code",
   "execution_count": 35,
   "id": "e4c7b5ca",
   "metadata": {},
   "outputs": [
    {
     "data": {
      "text/html": [
       "<div>\n",
       "<style scoped>\n",
       "    .dataframe tbody tr th:only-of-type {\n",
       "        vertical-align: middle;\n",
       "    }\n",
       "\n",
       "    .dataframe tbody tr th {\n",
       "        vertical-align: top;\n",
       "    }\n",
       "\n",
       "    .dataframe thead th {\n",
       "        text-align: right;\n",
       "    }\n",
       "</style>\n",
       "<table border=\"1\" class=\"dataframe\">\n",
       "  <thead>\n",
       "    <tr style=\"text-align: right;\">\n",
       "      <th></th>\n",
       "      <th>sex</th>\n",
       "      <th>smoker</th>\n",
       "      <th>region</th>\n",
       "    </tr>\n",
       "  </thead>\n",
       "  <tbody>\n",
       "    <tr>\n",
       "      <th>0</th>\n",
       "      <td>female</td>\n",
       "      <td>yes</td>\n",
       "      <td>southwest</td>\n",
       "    </tr>\n",
       "    <tr>\n",
       "      <th>1</th>\n",
       "      <td>male</td>\n",
       "      <td>no</td>\n",
       "      <td>southeast</td>\n",
       "    </tr>\n",
       "    <tr>\n",
       "      <th>2</th>\n",
       "      <td>male</td>\n",
       "      <td>no</td>\n",
       "      <td>southeast</td>\n",
       "    </tr>\n",
       "    <tr>\n",
       "      <th>3</th>\n",
       "      <td>male</td>\n",
       "      <td>no</td>\n",
       "      <td>northwest</td>\n",
       "    </tr>\n",
       "    <tr>\n",
       "      <th>4</th>\n",
       "      <td>male</td>\n",
       "      <td>no</td>\n",
       "      <td>northwest</td>\n",
       "    </tr>\n",
       "    <tr>\n",
       "      <th>...</th>\n",
       "      <td>...</td>\n",
       "      <td>...</td>\n",
       "      <td>...</td>\n",
       "    </tr>\n",
       "    <tr>\n",
       "      <th>1333</th>\n",
       "      <td>male</td>\n",
       "      <td>no</td>\n",
       "      <td>northwest</td>\n",
       "    </tr>\n",
       "    <tr>\n",
       "      <th>1334</th>\n",
       "      <td>female</td>\n",
       "      <td>no</td>\n",
       "      <td>northeast</td>\n",
       "    </tr>\n",
       "    <tr>\n",
       "      <th>1335</th>\n",
       "      <td>female</td>\n",
       "      <td>no</td>\n",
       "      <td>southeast</td>\n",
       "    </tr>\n",
       "    <tr>\n",
       "      <th>1336</th>\n",
       "      <td>female</td>\n",
       "      <td>no</td>\n",
       "      <td>southwest</td>\n",
       "    </tr>\n",
       "    <tr>\n",
       "      <th>1337</th>\n",
       "      <td>female</td>\n",
       "      <td>yes</td>\n",
       "      <td>northwest</td>\n",
       "    </tr>\n",
       "  </tbody>\n",
       "</table>\n",
       "<p>1338 rows × 3 columns</p>\n",
       "</div>"
      ],
      "text/plain": [
       "         sex smoker     region\n",
       "0     female    yes  southwest\n",
       "1       male     no  southeast\n",
       "2       male     no  southeast\n",
       "3       male     no  northwest\n",
       "4       male     no  northwest\n",
       "...      ...    ...        ...\n",
       "1333    male     no  northwest\n",
       "1334  female     no  northeast\n",
       "1335  female     no  southeast\n",
       "1336  female     no  southwest\n",
       "1337  female    yes  northwest\n",
       "\n",
       "[1338 rows x 3 columns]"
      ]
     },
     "execution_count": 35,
     "metadata": {},
     "output_type": "execute_result"
    }
   ],
   "source": [
    "cat_cols"
   ]
  },
  {
   "cell_type": "code",
   "execution_count": 9,
   "id": "4cdacc7a",
   "metadata": {},
   "outputs": [
    {
     "name": "stdout",
     "output_type": "stream",
     "text": [
      "sex\n",
      "male      676\n",
      "female    662\n",
      "Name: sex, dtype: int64\n",
      "--------------------------------------------------------------------------\n",
      "smoker\n",
      "no     1064\n",
      "yes     274\n",
      "Name: smoker, dtype: int64\n",
      "--------------------------------------------------------------------------\n",
      "region\n",
      "southeast    364\n",
      "southwest    325\n",
      "northwest    325\n",
      "northeast    324\n",
      "Name: region, dtype: int64\n",
      "--------------------------------------------------------------------------\n"
     ]
    }
   ],
   "source": [
    "for col in cat_cols.columns:\n",
    "    print(col)\n",
    "    print(df[col].value_counts())\n",
    "    print('--------------------------------------------------------------------------')\n",
    "    "
   ]
  },
  {
   "cell_type": "markdown",
   "id": "11717bd4",
   "metadata": {},
   "source": [
    "## Data Visualization"
   ]
  },
  {
   "cell_type": "code",
   "execution_count": 10,
   "id": "35538496",
   "metadata": {},
   "outputs": [
    {
     "data": {
      "text/plain": [
       "<AxesSubplot:xlabel='sex', ylabel='count'>"
      ]
     },
     "execution_count": 10,
     "metadata": {},
     "output_type": "execute_result"
    },
    {
     "data": {
      "image/png": "[encoded data removed]",
      "text/plain": [
       "<Figure size 432x288 with 1 Axes>"
      ]
     },
     "metadata": {
      "needs_background": "light"
     },
     "output_type": "display_data"
    }
   ],
   "source": [
    "sns.countplot(df['sex'])"
   ]
  },
  {
   "cell_type": "code",
   "execution_count": 11,
   "id": "516cd507",
   "metadata": {},
   "outputs": [
    {
     "data": {
      "text/plain": [
       "<AxesSubplot:xlabel='sex', ylabel='count'>"
      ]
     },
     "execution_count": 11,
     "metadata": {},
     "output_type": "execute_result"
    },
    {
     "data": {
      "image/png": "[encoded data removed]",
      "text/plain": [
       "<Figure size 432x288 with 1 Axes>"
      ]
     },
     "metadata": {
      "needs_background": "light"
     },
     "output_type": "display_data"
    }
   ],
   "source": [
    "sns.countplot(df['sex'],hue=df['smoker'])"
   ]
  },
  {
   "cell_type": "code",
   "execution_count": 12,
   "id": "49bbc1f8",
   "metadata": {},
   "outputs": [
    {
     "data": {
      "text/plain": [
       "<AxesSubplot:xlabel='sex', ylabel='count'>"
      ]
     },
     "execution_count": 12,
     "metadata": {},
     "output_type": "execute_result"
    },
    {
     "data": {
      "image/png": "[encoded data removed]",
      "text/plain": [
       "<Figure size 432x288 with 1 Axes>"
      ]
     },
     "metadata": {
      "needs_background": "light"
     },
     "output_type": "display_data"
    }
   ],
   "source": [
    "sns.countplot(df['sex'],hue=df['region'])"
   ]
  },
  {
   "cell_type": "code",
   "execution_count": 13,
   "id": "0f188ac7",
   "metadata": {},
   "outputs": [
    {
     "data": {
      "text/plain": [
       "<AxesSubplot:xlabel='children', ylabel='count'>"
      ]
     },
     "execution_count": 13,
     "metadata": {},
     "output_type": "execute_result"
    },
    {
     "data": {
      "image/png": "[encoded data removed]",
      "text/plain": [
       "<Figure size 432x288 with 1 Axes>"
      ]
     },
     "metadata": {
      "needs_background": "light"
     },
     "output_type": "display_data"
    }
   ],
   "source": [
    "sns.countplot(df['children'])"
   ]
  },
  {
   "cell_type": "code",
   "execution_count": 14,
   "id": "5750e8c9",
   "metadata": {},
   "outputs": [
    {
     "data": {
      "text/plain": [
       "<seaborn.axisgrid.FacetGrid at 0x1a105199e20>"
      ]
     },
     "execution_count": 14,
     "metadata": {},
     "output_type": "execute_result"
    },
    {
     "data": {
      "image/png": "[encoded data removed]",
      "text/plain": [
       "<Figure size 360x360 with 1 Axes>"
      ]
     },
     "metadata": {
      "needs_background": "light"
     },
     "output_type": "display_data"
    }
   ],
   "source": [
    "sns.displot(df['age'],kind='kde')"
   ]
  },
  {
   "cell_type": "code",
   "execution_count": 15,
   "id": "cbf2bfc5",
   "metadata": {},
   "outputs": [
    {
     "data": {
      "text/plain": [
       "<seaborn.axisgrid.FacetGrid at 0x1a105244e50>"
      ]
     },
     "execution_count": 15,
     "metadata": {},
     "output_type": "execute_result"
    },
    {
     "data": {
      "image/png": "[encoded data removed]",
      "text/plain": [
       "<Figure size 360x360 with 1 Axes>"
      ]
     },
     "metadata": {
      "needs_background": "light"
     },
     "output_type": "display_data"
    }
   ],
   "source": [
    "sns.displot(df['bmi'],kind='kde')"
   ]
  },
  {
   "cell_type": "code",
   "execution_count": 16,
   "id": "dbbd639c",
   "metadata": {},
   "outputs": [
    {
     "data": {
      "text/html": [
       "<div>\n",
       "<style scoped>\n",
       "    .dataframe tbody tr th:only-of-type {\n",
       "        vertical-align: middle;\n",
       "    }\n",
       "\n",
       "    .dataframe tbody tr th {\n",
       "        vertical-align: top;\n",
       "    }\n",
       "\n",
       "    .dataframe thead th {\n",
       "        text-align: right;\n",
       "    }\n",
       "</style>\n",
       "<table border=\"1\" class=\"dataframe\">\n",
       "  <thead>\n",
       "    <tr style=\"text-align: right;\">\n",
       "      <th></th>\n",
       "      <th>age</th>\n",
       "      <th>bmi</th>\n",
       "      <th>children</th>\n",
       "      <th>expenses</th>\n",
       "    </tr>\n",
       "  </thead>\n",
       "  <tbody>\n",
       "    <tr>\n",
       "      <th>age</th>\n",
       "      <td>1.000000</td>\n",
       "      <td>0.109341</td>\n",
       "      <td>0.042469</td>\n",
       "      <td>0.299008</td>\n",
       "    </tr>\n",
       "    <tr>\n",
       "      <th>bmi</th>\n",
       "      <td>0.109341</td>\n",
       "      <td>1.000000</td>\n",
       "      <td>0.012645</td>\n",
       "      <td>0.198576</td>\n",
       "    </tr>\n",
       "    <tr>\n",
       "      <th>children</th>\n",
       "      <td>0.042469</td>\n",
       "      <td>0.012645</td>\n",
       "      <td>1.000000</td>\n",
       "      <td>0.067998</td>\n",
       "    </tr>\n",
       "    <tr>\n",
       "      <th>expenses</th>\n",
       "      <td>0.299008</td>\n",
       "      <td>0.198576</td>\n",
       "      <td>0.067998</td>\n",
       "      <td>1.000000</td>\n",
       "    </tr>\n",
       "  </tbody>\n",
       "</table>\n",
       "</div>"
      ],
      "text/plain": [
       "               age       bmi  children  expenses\n",
       "age       1.000000  0.109341  0.042469  0.299008\n",
       "bmi       0.109341  1.000000  0.012645  0.198576\n",
       "children  0.042469  0.012645  1.000000  0.067998\n",
       "expenses  0.299008  0.198576  0.067998  1.000000"
      ]
     },
     "execution_count": 16,
     "metadata": {},
     "output_type": "execute_result"
    }
   ],
   "source": [
    "#Checking for correlation\n",
    "corr=df.corr()\n",
    "corr"
   ]
  },
  {
   "cell_type": "code",
   "execution_count": 17,
   "id": "5f18f865",
   "metadata": {},
   "outputs": [
    {
     "data": {
      "text/plain": [
       "<AxesSubplot:>"
      ]
     },
     "execution_count": 17,
     "metadata": {},
     "output_type": "execute_result"
    },
    {
     "data": {
      "image/png": "[encoded data removed]",
      "text/plain": [
       "<Figure size 432x288 with 2 Axes>"
      ]
     },
     "metadata": {
      "needs_background": "light"
     },
     "output_type": "display_data"
    }
   ],
   "source": [
    "sns.heatmap(corr,annot=True,cmap='tab20b_r')"
   ]
  },
  {
   "cell_type": "markdown",
   "id": "de234803",
   "metadata": {},
   "source": [
    "## Encoding"
   ]
  },
  {
   "cell_type": "code",
   "execution_count": 18,
   "id": "f7ccc4f4",
   "metadata": {},
   "outputs": [],
   "source": [
    "#Encoding the data\n",
    "from sklearn.preprocessing import LabelEncoder\n",
    "le=LabelEncoder()"
   ]
  },
  {
   "cell_type": "code",
   "execution_count": 19,
   "id": "0a1ba01f",
   "metadata": {},
   "outputs": [],
   "source": [
    "list_cat=list(cat_cols.columns)\n",
    "df[list_cat] = df[list_cat].apply(le.fit_transform)"
   ]
  },
  {
   "cell_type": "code",
   "execution_count": 20,
   "id": "28f5bb0c",
   "metadata": {},
   "outputs": [
    {
     "data": {
      "text/html": [
       "<div>\n",
       "<style scoped>\n",
       "    .dataframe tbody tr th:only-of-type {\n",
       "        vertical-align: middle;\n",
       "    }\n",
       "\n",
       "    .dataframe tbody tr th {\n",
       "        vertical-align: top;\n",
       "    }\n",
       "\n",
       "    .dataframe thead th {\n",
       "        text-align: right;\n",
       "    }\n",
       "</style>\n",
       "<table border=\"1\" class=\"dataframe\">\n",
       "  <thead>\n",
       "    <tr style=\"text-align: right;\">\n",
       "      <th></th>\n",
       "      <th>age</th>\n",
       "      <th>sex</th>\n",
       "      <th>bmi</th>\n",
       "      <th>children</th>\n",
       "      <th>smoker</th>\n",
       "      <th>region</th>\n",
       "      <th>expenses</th>\n",
       "    </tr>\n",
       "  </thead>\n",
       "  <tbody>\n",
       "    <tr>\n",
       "      <th>0</th>\n",
       "      <td>19</td>\n",
       "      <td>0</td>\n",
       "      <td>27.9</td>\n",
       "      <td>0</td>\n",
       "      <td>1</td>\n",
       "      <td>3</td>\n",
       "      <td>16884.92</td>\n",
       "    </tr>\n",
       "    <tr>\n",
       "      <th>1</th>\n",
       "      <td>18</td>\n",
       "      <td>1</td>\n",
       "      <td>33.8</td>\n",
       "      <td>1</td>\n",
       "      <td>0</td>\n",
       "      <td>2</td>\n",
       "      <td>1725.55</td>\n",
       "    </tr>\n",
       "    <tr>\n",
       "      <th>2</th>\n",
       "      <td>28</td>\n",
       "      <td>1</td>\n",
       "      <td>33.0</td>\n",
       "      <td>3</td>\n",
       "      <td>0</td>\n",
       "      <td>2</td>\n",
       "      <td>4449.46</td>\n",
       "    </tr>\n",
       "    <tr>\n",
       "      <th>3</th>\n",
       "      <td>33</td>\n",
       "      <td>1</td>\n",
       "      <td>22.7</td>\n",
       "      <td>0</td>\n",
       "      <td>0</td>\n",
       "      <td>1</td>\n",
       "      <td>21984.47</td>\n",
       "    </tr>\n",
       "    <tr>\n",
       "      <th>4</th>\n",
       "      <td>32</td>\n",
       "      <td>1</td>\n",
       "      <td>28.9</td>\n",
       "      <td>0</td>\n",
       "      <td>0</td>\n",
       "      <td>1</td>\n",
       "      <td>3866.86</td>\n",
       "    </tr>\n",
       "    <tr>\n",
       "      <th>...</th>\n",
       "      <td>...</td>\n",
       "      <td>...</td>\n",
       "      <td>...</td>\n",
       "      <td>...</td>\n",
       "      <td>...</td>\n",
       "      <td>...</td>\n",
       "      <td>...</td>\n",
       "    </tr>\n",
       "    <tr>\n",
       "      <th>1333</th>\n",
       "      <td>50</td>\n",
       "      <td>1</td>\n",
       "      <td>31.0</td>\n",
       "      <td>3</td>\n",
       "      <td>0</td>\n",
       "      <td>1</td>\n",
       "      <td>10600.55</td>\n",
       "    </tr>\n",
       "    <tr>\n",
       "      <th>1334</th>\n",
       "      <td>18</td>\n",
       "      <td>0</td>\n",
       "      <td>31.9</td>\n",
       "      <td>0</td>\n",
       "      <td>0</td>\n",
       "      <td>0</td>\n",
       "      <td>2205.98</td>\n",
       "    </tr>\n",
       "    <tr>\n",
       "      <th>1335</th>\n",
       "      <td>18</td>\n",
       "      <td>0</td>\n",
       "      <td>36.9</td>\n",
       "      <td>0</td>\n",
       "      <td>0</td>\n",
       "      <td>2</td>\n",
       "      <td>1629.83</td>\n",
       "    </tr>\n",
       "    <tr>\n",
       "      <th>1336</th>\n",
       "      <td>21</td>\n",
       "      <td>0</td>\n",
       "      <td>25.8</td>\n",
       "      <td>0</td>\n",
       "      <td>0</td>\n",
       "      <td>3</td>\n",
       "      <td>2007.95</td>\n",
       "    </tr>\n",
       "    <tr>\n",
       "      <th>1337</th>\n",
       "      <td>61</td>\n",
       "      <td>0</td>\n",
       "      <td>29.1</td>\n",
       "      <td>0</td>\n",
       "      <td>1</td>\n",
       "      <td>1</td>\n",
       "      <td>29141.36</td>\n",
       "    </tr>\n",
       "  </tbody>\n",
       "</table>\n",
       "<p>1338 rows × 7 columns</p>\n",
       "</div>"
      ],
      "text/plain": [
       "      age  sex   bmi  children  smoker  region  expenses\n",
       "0      19    0  27.9         0       1       3  16884.92\n",
       "1      18    1  33.8         1       0       2   1725.55\n",
       "2      28    1  33.0         3       0       2   4449.46\n",
       "3      33    1  22.7         0       0       1  21984.47\n",
       "4      32    1  28.9         0       0       1   3866.86\n",
       "...   ...  ...   ...       ...     ...     ...       ...\n",
       "1333   50    1  31.0         3       0       1  10600.55\n",
       "1334   18    0  31.9         0       0       0   2205.98\n",
       "1335   18    0  36.9         0       0       2   1629.83\n",
       "1336   21    0  25.8         0       0       3   2007.95\n",
       "1337   61    0  29.1         0       1       1  29141.36\n",
       "\n",
       "[1338 rows x 7 columns]"
      ]
     },
     "execution_count": 20,
     "metadata": {},
     "output_type": "execute_result"
    }
   ],
   "source": [
    "df"
   ]
  },
  {
   "cell_type": "markdown",
   "id": "6b2cd194",
   "metadata": {},
   "source": [
    "## Standardization"
   ]
  },
  {
   "cell_type": "code",
   "execution_count": 21,
   "id": "b50a6fa4",
   "metadata": {},
   "outputs": [],
   "source": [
    "from sklearn.preprocessing import StandardScaler\n",
    "ss=StandardScaler()"
   ]
  },
  {
   "cell_type": "code",
   "execution_count": 22,
   "id": "a3017b6b",
   "metadata": {},
   "outputs": [
    {
     "data": {
      "text/plain": [
       "array([[-1.43876426, -1.0105187 , -0.4536457 , -0.90861367,  1.97058663,\n",
       "         1.34390459],\n",
       "       [-1.50996545,  0.98959079,  0.51418574, -0.07876719, -0.5074631 ,\n",
       "         0.43849455],\n",
       "       [-0.79795355,  0.98959079,  0.38295436,  1.58092576, -0.5074631 ,\n",
       "         0.43849455],\n",
       "       ...,\n",
       "       [-1.50996545, -1.0105187 ,  1.02270734, -0.90861367, -0.5074631 ,\n",
       "         0.43849455],\n",
       "       [-1.29636188, -1.0105187 , -0.79812808, -0.90861367, -0.5074631 ,\n",
       "         1.34390459],\n",
       "       [ 1.55168573, -1.0105187 , -0.25679863, -0.90861367,  1.97058663,\n",
       "        -0.46691549]])"
      ]
     },
     "execution_count": 22,
     "metadata": {},
     "output_type": "execute_result"
    }
   ],
   "source": [
    "scaled=ss.fit_transform(df.drop('expenses',axis=1))\n",
    "scaled"
   ]
  },
  {
   "cell_type": "code",
   "execution_count": 23,
   "id": "b562ae4b",
   "metadata": {},
   "outputs": [
    {
     "data": {
      "text/html": [
       "<div>\n",
       "<style scoped>\n",
       "    .dataframe tbody tr th:only-of-type {\n",
       "        vertical-align: middle;\n",
       "    }\n",
       "\n",
       "    .dataframe tbody tr th {\n",
       "        vertical-align: top;\n",
       "    }\n",
       "\n",
       "    .dataframe thead th {\n",
       "        text-align: right;\n",
       "    }\n",
       "</style>\n",
       "<table border=\"1\" class=\"dataframe\">\n",
       "  <thead>\n",
       "    <tr style=\"text-align: right;\">\n",
       "      <th></th>\n",
       "      <th>0</th>\n",
       "      <th>1</th>\n",
       "      <th>2</th>\n",
       "      <th>3</th>\n",
       "      <th>4</th>\n",
       "      <th>5</th>\n",
       "      <th>expenses</th>\n",
       "    </tr>\n",
       "  </thead>\n",
       "  <tbody>\n",
       "    <tr>\n",
       "      <th>0</th>\n",
       "      <td>-1.438764</td>\n",
       "      <td>-1.010519</td>\n",
       "      <td>-0.453646</td>\n",
       "      <td>-0.908614</td>\n",
       "      <td>1.970587</td>\n",
       "      <td>1.343905</td>\n",
       "      <td>16884.92</td>\n",
       "    </tr>\n",
       "    <tr>\n",
       "      <th>1</th>\n",
       "      <td>-1.509965</td>\n",
       "      <td>0.989591</td>\n",
       "      <td>0.514186</td>\n",
       "      <td>-0.078767</td>\n",
       "      <td>-0.507463</td>\n",
       "      <td>0.438495</td>\n",
       "      <td>1725.55</td>\n",
       "    </tr>\n",
       "    <tr>\n",
       "      <th>2</th>\n",
       "      <td>-0.797954</td>\n",
       "      <td>0.989591</td>\n",
       "      <td>0.382954</td>\n",
       "      <td>1.580926</td>\n",
       "      <td>-0.507463</td>\n",
       "      <td>0.438495</td>\n",
       "      <td>4449.46</td>\n",
       "    </tr>\n",
       "    <tr>\n",
       "      <th>3</th>\n",
       "      <td>-0.441948</td>\n",
       "      <td>0.989591</td>\n",
       "      <td>-1.306650</td>\n",
       "      <td>-0.908614</td>\n",
       "      <td>-0.507463</td>\n",
       "      <td>-0.466915</td>\n",
       "      <td>21984.47</td>\n",
       "    </tr>\n",
       "    <tr>\n",
       "      <th>4</th>\n",
       "      <td>-0.513149</td>\n",
       "      <td>0.989591</td>\n",
       "      <td>-0.289606</td>\n",
       "      <td>-0.908614</td>\n",
       "      <td>-0.507463</td>\n",
       "      <td>-0.466915</td>\n",
       "      <td>3866.86</td>\n",
       "    </tr>\n",
       "    <tr>\n",
       "      <th>...</th>\n",
       "      <td>...</td>\n",
       "      <td>...</td>\n",
       "      <td>...</td>\n",
       "      <td>...</td>\n",
       "      <td>...</td>\n",
       "      <td>...</td>\n",
       "      <td>...</td>\n",
       "    </tr>\n",
       "    <tr>\n",
       "      <th>1333</th>\n",
       "      <td>0.768473</td>\n",
       "      <td>0.989591</td>\n",
       "      <td>0.054876</td>\n",
       "      <td>1.580926</td>\n",
       "      <td>-0.507463</td>\n",
       "      <td>-0.466915</td>\n",
       "      <td>10600.55</td>\n",
       "    </tr>\n",
       "    <tr>\n",
       "      <th>1334</th>\n",
       "      <td>-1.509965</td>\n",
       "      <td>-1.010519</td>\n",
       "      <td>0.202511</td>\n",
       "      <td>-0.908614</td>\n",
       "      <td>-0.507463</td>\n",
       "      <td>-1.372326</td>\n",
       "      <td>2205.98</td>\n",
       "    </tr>\n",
       "    <tr>\n",
       "      <th>1335</th>\n",
       "      <td>-1.509965</td>\n",
       "      <td>-1.010519</td>\n",
       "      <td>1.022707</td>\n",
       "      <td>-0.908614</td>\n",
       "      <td>-0.507463</td>\n",
       "      <td>0.438495</td>\n",
       "      <td>1629.83</td>\n",
       "    </tr>\n",
       "    <tr>\n",
       "      <th>1336</th>\n",
       "      <td>-1.296362</td>\n",
       "      <td>-1.010519</td>\n",
       "      <td>-0.798128</td>\n",
       "      <td>-0.908614</td>\n",
       "      <td>-0.507463</td>\n",
       "      <td>1.343905</td>\n",
       "      <td>2007.95</td>\n",
       "    </tr>\n",
       "    <tr>\n",
       "      <th>1337</th>\n",
       "      <td>1.551686</td>\n",
       "      <td>-1.010519</td>\n",
       "      <td>-0.256799</td>\n",
       "      <td>-0.908614</td>\n",
       "      <td>1.970587</td>\n",
       "      <td>-0.466915</td>\n",
       "      <td>29141.36</td>\n",
       "    </tr>\n",
       "  </tbody>\n",
       "</table>\n",
       "<p>1338 rows × 7 columns</p>\n",
       "</div>"
      ],
      "text/plain": [
       "             0         1         2         3         4         5  expenses\n",
       "0    -1.438764 -1.010519 -0.453646 -0.908614  1.970587  1.343905  16884.92\n",
       "1    -1.509965  0.989591  0.514186 -0.078767 -0.507463  0.438495   1725.55\n",
       "2    -0.797954  0.989591  0.382954  1.580926 -0.507463  0.438495   4449.46\n",
       "3    -0.441948  0.989591 -1.306650 -0.908614 -0.507463 -0.466915  21984.47\n",
       "4    -0.513149  0.989591 -0.289606 -0.908614 -0.507463 -0.466915   3866.86\n",
       "...        ...       ...       ...       ...       ...       ...       ...\n",
       "1333  0.768473  0.989591  0.054876  1.580926 -0.507463 -0.466915  10600.55\n",
       "1334 -1.509965 -1.010519  0.202511 -0.908614 -0.507463 -1.372326   2205.98\n",
       "1335 -1.509965 -1.010519  1.022707 -0.908614 -0.507463  0.438495   1629.83\n",
       "1336 -1.296362 -1.010519 -0.798128 -0.908614 -0.507463  1.343905   2007.95\n",
       "1337  1.551686 -1.010519 -0.256799 -0.908614  1.970587 -0.466915  29141.36\n",
       "\n",
       "[1338 rows x 7 columns]"
      ]
     },
     "execution_count": 23,
     "metadata": {},
     "output_type": "execute_result"
    }
   ],
   "source": [
    "df_ss=pd.DataFrame(scaled)\n",
    "df_ss=pd.concat([df_ss,df['expenses']],axis=1)\n",
    "df_ss"
   ]
  },
  {
   "cell_type": "markdown",
   "id": "8b1cf136",
   "metadata": {},
   "source": [
    "## Model Building"
   ]
  },
  {
   "cell_type": "code",
   "execution_count": 37,
   "id": "a399bd62",
   "metadata": {},
   "outputs": [],
   "source": [
    "from sklearn.linear_model import LinearRegression,Ridge,Lasso\n",
    "from sklearn.metrics import mean_squared_error,mean_absolute_error,r2_score\n",
    "from sklearn.tree import DecisionTreeRegressor\n",
    "from sklearn.ensemble import RandomForestRegressor"
   ]
  },
  {
   "cell_type": "code",
   "execution_count": 25,
   "id": "09ec1e08",
   "metadata": {},
   "outputs": [],
   "source": [
    "x=df.drop(['expenses'],axis=1)\n",
    "y=df[['expenses']]"
   ]
  },
  {
   "cell_type": "code",
   "execution_count": 26,
   "id": "3b40ef3d",
   "metadata": {},
   "outputs": [
    {
     "data": {
      "text/html": [
       "<div>\n",
       "<style scoped>\n",
       "    .dataframe tbody tr th:only-of-type {\n",
       "        vertical-align: middle;\n",
       "    }\n",
       "\n",
       "    .dataframe tbody tr th {\n",
       "        vertical-align: top;\n",
       "    }\n",
       "\n",
       "    .dataframe thead th {\n",
       "        text-align: right;\n",
       "    }\n",
       "</style>\n",
       "<table border=\"1\" class=\"dataframe\">\n",
       "  <thead>\n",
       "    <tr style=\"text-align: right;\">\n",
       "      <th></th>\n",
       "      <th>age</th>\n",
       "      <th>sex</th>\n",
       "      <th>bmi</th>\n",
       "      <th>children</th>\n",
       "      <th>smoker</th>\n",
       "      <th>region</th>\n",
       "    </tr>\n",
       "  </thead>\n",
       "  <tbody>\n",
       "    <tr>\n",
       "      <th>0</th>\n",
       "      <td>19</td>\n",
       "      <td>0</td>\n",
       "      <td>27.9</td>\n",
       "      <td>0</td>\n",
       "      <td>1</td>\n",
       "      <td>3</td>\n",
       "    </tr>\n",
       "    <tr>\n",
       "      <th>1</th>\n",
       "      <td>18</td>\n",
       "      <td>1</td>\n",
       "      <td>33.8</td>\n",
       "      <td>1</td>\n",
       "      <td>0</td>\n",
       "      <td>2</td>\n",
       "    </tr>\n",
       "    <tr>\n",
       "      <th>2</th>\n",
       "      <td>28</td>\n",
       "      <td>1</td>\n",
       "      <td>33.0</td>\n",
       "      <td>3</td>\n",
       "      <td>0</td>\n",
       "      <td>2</td>\n",
       "    </tr>\n",
       "    <tr>\n",
       "      <th>3</th>\n",
       "      <td>33</td>\n",
       "      <td>1</td>\n",
       "      <td>22.7</td>\n",
       "      <td>0</td>\n",
       "      <td>0</td>\n",
       "      <td>1</td>\n",
       "    </tr>\n",
       "    <tr>\n",
       "      <th>4</th>\n",
       "      <td>32</td>\n",
       "      <td>1</td>\n",
       "      <td>28.9</td>\n",
       "      <td>0</td>\n",
       "      <td>0</td>\n",
       "      <td>1</td>\n",
       "    </tr>\n",
       "    <tr>\n",
       "      <th>...</th>\n",
       "      <td>...</td>\n",
       "      <td>...</td>\n",
       "      <td>...</td>\n",
       "      <td>...</td>\n",
       "      <td>...</td>\n",
       "      <td>...</td>\n",
       "    </tr>\n",
       "    <tr>\n",
       "      <th>1333</th>\n",
       "      <td>50</td>\n",
       "      <td>1</td>\n",
       "      <td>31.0</td>\n",
       "      <td>3</td>\n",
       "      <td>0</td>\n",
       "      <td>1</td>\n",
       "    </tr>\n",
       "    <tr>\n",
       "      <th>1334</th>\n",
       "      <td>18</td>\n",
       "      <td>0</td>\n",
       "      <td>31.9</td>\n",
       "      <td>0</td>\n",
       "      <td>0</td>\n",
       "      <td>0</td>\n",
       "    </tr>\n",
       "    <tr>\n",
       "      <th>1335</th>\n",
       "      <td>18</td>\n",
       "      <td>0</td>\n",
       "      <td>36.9</td>\n",
       "      <td>0</td>\n",
       "      <td>0</td>\n",
       "      <td>2</td>\n",
       "    </tr>\n",
       "    <tr>\n",
       "      <th>1336</th>\n",
       "      <td>21</td>\n",
       "      <td>0</td>\n",
       "      <td>25.8</td>\n",
       "      <td>0</td>\n",
       "      <td>0</td>\n",
       "      <td>3</td>\n",
       "    </tr>\n",
       "    <tr>\n",
       "      <th>1337</th>\n",
       "      <td>61</td>\n",
       "      <td>0</td>\n",
       "      <td>29.1</td>\n",
       "      <td>0</td>\n",
       "      <td>1</td>\n",
       "      <td>1</td>\n",
       "    </tr>\n",
       "  </tbody>\n",
       "</table>\n",
       "<p>1338 rows × 6 columns</p>\n",
       "</div>"
      ],
      "text/plain": [
       "      age  sex   bmi  children  smoker  region\n",
       "0      19    0  27.9         0       1       3\n",
       "1      18    1  33.8         1       0       2\n",
       "2      28    1  33.0         3       0       2\n",
       "3      33    1  22.7         0       0       1\n",
       "4      32    1  28.9         0       0       1\n",
       "...   ...  ...   ...       ...     ...     ...\n",
       "1333   50    1  31.0         3       0       1\n",
       "1334   18    0  31.9         0       0       0\n",
       "1335   18    0  36.9         0       0       2\n",
       "1336   21    0  25.8         0       0       3\n",
       "1337   61    0  29.1         0       1       1\n",
       "\n",
       "[1338 rows x 6 columns]"
      ]
     },
     "execution_count": 26,
     "metadata": {},
     "output_type": "execute_result"
    }
   ],
   "source": [
    "x"
   ]
  },
  {
   "cell_type": "code",
   "execution_count": 27,
   "id": "a3cbc0af",
   "metadata": {},
   "outputs": [
    {
     "data": {
      "text/html": [
       "<div>\n",
       "<style scoped>\n",
       "    .dataframe tbody tr th:only-of-type {\n",
       "        vertical-align: middle;\n",
       "    }\n",
       "\n",
       "    .dataframe tbody tr th {\n",
       "        vertical-align: top;\n",
       "    }\n",
       "\n",
       "    .dataframe thead th {\n",
       "        text-align: right;\n",
       "    }\n",
       "</style>\n",
       "<table border=\"1\" class=\"dataframe\">\n",
       "  <thead>\n",
       "    <tr style=\"text-align: right;\">\n",
       "      <th></th>\n",
       "      <th>expenses</th>\n",
       "    </tr>\n",
       "  </thead>\n",
       "  <tbody>\n",
       "    <tr>\n",
       "      <th>0</th>\n",
       "      <td>16884.92</td>\n",
       "    </tr>\n",
       "    <tr>\n",
       "      <th>1</th>\n",
       "      <td>1725.55</td>\n",
       "    </tr>\n",
       "    <tr>\n",
       "      <th>2</th>\n",
       "      <td>4449.46</td>\n",
       "    </tr>\n",
       "    <tr>\n",
       "      <th>3</th>\n",
       "      <td>21984.47</td>\n",
       "    </tr>\n",
       "    <tr>\n",
       "      <th>4</th>\n",
       "      <td>3866.86</td>\n",
       "    </tr>\n",
       "    <tr>\n",
       "      <th>...</th>\n",
       "      <td>...</td>\n",
       "    </tr>\n",
       "    <tr>\n",
       "      <th>1333</th>\n",
       "      <td>10600.55</td>\n",
       "    </tr>\n",
       "    <tr>\n",
       "      <th>1334</th>\n",
       "      <td>2205.98</td>\n",
       "    </tr>\n",
       "    <tr>\n",
       "      <th>1335</th>\n",
       "      <td>1629.83</td>\n",
       "    </tr>\n",
       "    <tr>\n",
       "      <th>1336</th>\n",
       "      <td>2007.95</td>\n",
       "    </tr>\n",
       "    <tr>\n",
       "      <th>1337</th>\n",
       "      <td>29141.36</td>\n",
       "    </tr>\n",
       "  </tbody>\n",
       "</table>\n",
       "<p>1338 rows × 1 columns</p>\n",
       "</div>"
      ],
      "text/plain": [
       "      expenses\n",
       "0     16884.92\n",
       "1      1725.55\n",
       "2      4449.46\n",
       "3     21984.47\n",
       "4      3866.86\n",
       "...        ...\n",
       "1333  10600.55\n",
       "1334   2205.98\n",
       "1335   1629.83\n",
       "1336   2007.95\n",
       "1337  29141.36\n",
       "\n",
       "[1338 rows x 1 columns]"
      ]
     },
     "execution_count": 27,
     "metadata": {},
     "output_type": "execute_result"
    }
   ],
   "source": [
    "y"
   ]
  },
  {
   "cell_type": "code",
   "execution_count": 28,
   "id": "e43c0133",
   "metadata": {},
   "outputs": [],
   "source": [
    "from sklearn.model_selection import train_test_split\n",
    "x_train,x_test,y_train,y_test=train_test_split(x,y,test_size=0.3,random_state=0)"
   ]
  },
  {
   "cell_type": "code",
   "execution_count": 29,
   "id": "f7821714",
   "metadata": {},
   "outputs": [
    {
     "data": {
      "text/plain": [
       "((936, 6), (936, 1))"
      ]
     },
     "execution_count": 29,
     "metadata": {},
     "output_type": "execute_result"
    }
   ],
   "source": [
    "x_train.shape,y_train.shape"
   ]
  },
  {
   "cell_type": "markdown",
   "id": "ff8ece27",
   "metadata": {},
   "source": [
    "### Linear Regression"
   ]
  },
  {
   "cell_type": "code",
   "execution_count": 30,
   "id": "bc2e2057",
   "metadata": {},
   "outputs": [
    {
     "name": "stdout",
     "output_type": "stream",
     "text": [
      "---------------------------\n",
      "MSE: 33304881.694371693\n",
      "---------------------------\n",
      "MAE : 4013.547351374277\n",
      "---------------------------\n",
      "RMSE: 5771.0381816768195\n",
      "---------------------------\n",
      "R2: 0.791151983192236\n"
     ]
    }
   ],
   "source": [
    "from sklearn.linear_model import LinearRegression\n",
    "lr=LinearRegression()\n",
    "lr.fit(x_train,y_train)\n",
    "y1_pred=lr.predict(x_test)\n",
    "\n",
    "print('---------------------------')\n",
    "print('MSE:',mean_squared_error(y_test,y1_pred))\n",
    "print('---------------------------')\n",
    "print('MAE :',mean_absolute_error(y_test,y1_pred))\n",
    "print('---------------------------')\n",
    "print('RMSE:',np.sqrt(mean_squared_error(y_test,y1_pred)))\n",
    "print('---------------------------')\n",
    "print('R2:',r2_score(y_test,y1_pred))"
   ]
  },
  {
   "cell_type": "markdown",
   "id": "c82e76c8",
   "metadata": {},
   "source": [
    "### Decision Tree Regressor"
   ]
  },
  {
   "cell_type": "code",
   "execution_count": 31,
   "id": "4de6cbe2",
   "metadata": {},
   "outputs": [
    {
     "name": "stdout",
     "output_type": "stream",
     "text": [
      "---------------------------\n",
      "MSE: 43763413.5121204\n",
      "---------------------------\n",
      "MAE : 3049.9958208955227\n",
      "---------------------------\n",
      "RMSE: 6615.392166162215\n",
      "---------------------------\n",
      "R2: 0.7255686957660314\n"
     ]
    }
   ],
   "source": [
    "dt_model=DecisionTreeRegressor()  \n",
    "dt_model.fit(x_train,y_train)\n",
    "\n",
    "y4_pred=dt_model.predict(x_test)\n",
    "\n",
    "\n",
    "\n",
    "print('---------------------------')\n",
    "print('MSE:',mean_squared_error(y_test,y4_pred))\n",
    "print('---------------------------')\n",
    "print('MAE :',mean_absolute_error(y_test,y4_pred))\n",
    "print('---------------------------')\n",
    "print('RMSE:',np.sqrt(mean_squared_error(y_test,y4_pred)))\n",
    "print('---------------------------')\n",
    "print('R2:',r2_score(y_test,y4_pred))"
   ]
  },
  {
   "cell_type": "markdown",
   "id": "a1f08844",
   "metadata": {},
   "source": [
    "### Random Forest Regressor"
   ]
  },
  {
   "cell_type": "code",
   "execution_count": 32,
   "id": "298adf09",
   "metadata": {},
   "outputs": [
    {
     "name": "stdout",
     "output_type": "stream",
     "text": [
      "---------------------------\n",
      "MSE: 22090304.56060469\n",
      "---------------------------\n",
      "MAE : 2823.6076332515995\n",
      "---------------------------\n",
      "RMSE: 4700.032399952653\n",
      "---------------------------\n",
      "R2: 0.8614762742441613\n"
     ]
    }
   ],
   "source": [
    "rf_model=RandomForestRegressor() \n",
    "rf_model.fit(x_train,y_train)\n",
    "\n",
    "y5_pred=rf_model.predict(x_test)\n",
    "\n",
    "\n",
    "print('---------------------------')\n",
    "print('MSE:',mean_squared_error(y_test,y5_pred))\n",
    "print('---------------------------')\n",
    "print('MAE :',mean_absolute_error(y_test,y5_pred))\n",
    "print('---------------------------')\n",
    "print('RMSE:',np.sqrt(mean_squared_error(y_test,y5_pred)))\n",
    "print('---------------------------')\n",
    "print('R2:',r2_score(y_test,y5_pred))"
   ]
  },
  {
   "cell_type": "code",
   "execution_count": 33,
   "id": "bd961371",
   "metadata": {},
   "outputs": [],
   "source": [
    "def metrics(model,pred):\n",
    "    print(\"------------------------------------------------------------------------\")\n",
    "    print(model,\"r2_score :\",r2_score(y_test,pred))\n",
    "    print(model,\"mae :\",mean_absolute_error(y_test,pred))\n",
    "    print(model,\"mse :\",mean_squared_error(y_test,pred))\n",
    "    print(model,\"rmse :\",np.sqrt(mean_squared_error(y_test,pred)))"
   ]
  },
  {
   "cell_type": "code",
   "execution_count": 34,
   "id": "28cf8181",
   "metadata": {},
   "outputs": [
    {
     "name": "stdout",
     "output_type": "stream",
     "text": [
      "------------------------------------------------------------------------\n",
      "LinearRegression() r2_score : 0.791151983192236\n",
      "LinearRegression() mae : 4013.547351374277\n",
      "LinearRegression() mse : 33304881.694371693\n",
      "LinearRegression() rmse : 5771.0381816768195\n",
      "------------------------------------------------------------------------\n",
      "DecisionTreeRegressor() r2_score : 0.7255686957660314\n",
      "DecisionTreeRegressor() mae : 3049.9958208955227\n",
      "DecisionTreeRegressor() mse : 43763413.5121204\n",
      "DecisionTreeRegressor() rmse : 6615.392166162215\n",
      "------------------------------------------------------------------------\n",
      "RandomForestRegressor() r2_score : 0.8614762742441613\n",
      "RandomForestRegressor() mae : 2823.6076332515995\n",
      "RandomForestRegressor() mse : 22090304.56060469\n",
      "RandomForestRegressor() rmse : 4700.032399952653\n"
     ]
    }
   ],
   "source": [
    "metrics(lr,y1_pred)\n",
    "metrics(dt_model,y4_pred)\n",
    "metrics(rf_model,y5_pred)"
   ]
  },
  {
   "cell_type": "markdown",
   "id": "cdbdc706",
   "metadata": {},
   "source": [
    "From the above results we can see that random forest regressor is working good for us "
   ]
  },
  {
   "cell_type": "code",
   "execution_count": null,
   "id": "cb9f27bf",
   "metadata": {},
   "outputs": [],
   "source": []
  }
 ],
 "metadata": {
  "kernelspec": {
   "display_name": "Python 3",
   "language": "python",
   "name": "python3"
  },
  "language_info": {
   "codemirror_mode": {
    "name": "ipython",
    "version": 3
   },
   "file_extension": ".py",
   "mimetype": "text/x-python",
   "name": "python",
   "nbconvert_exporter": "python",
   "pygments_lexer": "ipython3",
   "version": "3.8.8"
  }
 },
 "nbformat": 4,
 "nbformat_minor": 5
}
